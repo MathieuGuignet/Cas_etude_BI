{
 "cells": [
  {
   "cell_type": "code",
   "execution_count": null,
   "metadata": {},
   "outputs": [],
   "source": [
    "import pandas as pd\n",
    "import pathlib"
   ]
  },
  {
   "cell_type": "code",
   "execution_count": null,
   "metadata": {},
   "outputs": [],
   "source": [
    "data_path = '../data'\n",
    "# df = pd.read_csv(data_path+'/updown_per_cluster_and_mode.csv')\n",
    "# list(df.columns)"
   ]
  },
  {
   "cell_type": "code",
   "execution_count": null,
   "metadata": {},
   "outputs": [],
   "source": [
    "# liste de fichiers\n",
    "files=[]\n",
    "for file in pathlib.Path(data_path).glob('**/*'):\n",
    "    files.append(file.name)\n",
    "files.sort()\n",
    "files"
   ]
  },
  {
   "cell_type": "code",
   "execution_count": null,
   "metadata": {},
   "outputs": [],
   "source": [
    "# quelles infos dans quels fichiers\n",
    "files_column = {}\n",
    "for file in pathlib.Path(data_path).glob('**/*'):\n",
    "    df = pd.read_csv(file)\n",
    "    files_column[file.name]=list(df.columns)\n",
    "files_column"
   ]
  },
  {
   "cell_type": "code",
   "execution_count": null,
   "metadata": {},
   "outputs": [],
   "source": [
    "# liste des infos disponibles\n",
    "a=[]\n",
    "for value in files_column.values():\n",
    "    for column in value:\n",
    "        a.append(column)\n",
    "print(sorted(set(a)))"
   ]
  },
  {
   "cell_type": "code",
   "execution_count": null,
   "metadata": {},
   "outputs": [],
   "source": [
    "# quelles valeurs contiennent quelle info\n",
    "search_list=[]\n",
    "search = \"ref_insee\"\n",
    "for file in pathlib.Path(data_path).glob('**/*'):\n",
    "    df = pd.read_csv(file)\n",
    "    for column in (df.columns):\n",
    "        if column == search:\n",
    "            search_list+=list(df[column].unique())\n",
    "print(sorted(set(search_list)))"
   ]
  },
  {
   "cell_type": "code",
   "execution_count": null,
   "metadata": {},
   "outputs": [],
   "source": [
    "# quels fichiers contiennent quelle info\n",
    "search = 'ref_insee'\n",
    "for key, value in files_column.items():\n",
    "    for column in value:\n",
    "        if column == search:\n",
    "            print(key)"
   ]
  }
 ],
 "metadata": {
  "kernelspec": {
   "display_name": "Python 3.8.6 64-bit ('webSummaryService')",
   "language": "python",
   "name": "python3"
  },
  "language_info": {
   "codemirror_mode": {
    "name": "ipython",
    "version": 3
   },
   "file_extension": ".py",
   "mimetype": "text/x-python",
   "name": "python",
   "nbconvert_exporter": "python",
   "pygments_lexer": "ipython3",
   "version": "3.8.6"
  },
  "orig_nbformat": 4,
  "vscode": {
   "interpreter": {
    "hash": "eecbdc9c77f8219b3d7b96cbafed81bb413be840db101783da4cb2612317174c"
   }
  }
 },
 "nbformat": 4,
 "nbformat_minor": 2
}
