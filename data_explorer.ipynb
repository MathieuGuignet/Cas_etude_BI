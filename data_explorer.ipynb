{
 "cells": [
  {
   "cell_type": "code",
   "execution_count": 16,
   "metadata": {},
   "outputs": [],
   "source": [
    "import pandas as pd\n",
    "import pathlib"
   ]
  },
  {
   "cell_type": "code",
   "execution_count": 17,
   "metadata": {},
   "outputs": [],
   "source": [
    "data_path = '../data'\n",
    "# df = pd.read_csv(data_path+'/updown_per_cluster_and_mode.csv')\n",
    "# list(df.columns)"
   ]
  },
  {
   "cell_type": "code",
   "execution_count": 18,
   "metadata": {},
   "outputs": [
    {
     "data": {
      "text/plain": [
       "['calendar_dates.txt',\n",
       " 'cities.csv',\n",
       " 'shapes.txt',\n",
       " 'smmag_line_clusters.csv',\n",
       " 'smmag_line_stops.csv',\n",
       " 'smmag_lines.csv',\n",
       " 'smmag_stop_occupancy.csv',\n",
       " 'stop_times.txt',\n",
       " 'stops.txt',\n",
       " 'trips.txt',\n",
       " 'updown_per_cluster_and_mode.csv',\n",
       " 'updown_per_cluster_and_semline.csv',\n",
       " 'updown_per_cluster_inout.csv']"
      ]
     },
     "execution_count": 18,
     "metadata": {},
     "output_type": "execute_result"
    }
   ],
   "source": [
    "# liste de fichiers\n",
    "files=[]\n",
    "for file in pathlib.Path(data_path).glob('**/*'):\n",
    "    files.append(file.name)\n",
    "files.sort()\n",
    "files"
   ]
  },
  {
   "cell_type": "code",
   "execution_count": 19,
   "metadata": {},
   "outputs": [
    {
     "data": {
      "text/plain": [
       "{'stop_times.txt': ['trip_id',\n",
       "  'stop_id',\n",
       "  'arrival_time',\n",
       "  'departure_time',\n",
       "  'stop_sequence',\n",
       "  'pickup_type'],\n",
       " 'updown_per_cluster_and_semline.csv': ['cluster_name',\n",
       "  'target_line',\n",
       "  'passengers_count',\n",
       "  'up_down',\n",
       "  'line_direction',\n",
       "  'timelaps',\n",
       "  'goal',\n",
       "  'line'],\n",
       " 'smmag_lines.csv': ['id',\n",
       "  'gtfsId',\n",
       "  'shortName',\n",
       "  'longName',\n",
       "  'color',\n",
       "  'textColor',\n",
       "  'mode',\n",
       "  'type'],\n",
       " 'stops.txt': ['stop_id',\n",
       "  'stop_code',\n",
       "  'stop_name',\n",
       "  'stop_lat',\n",
       "  'stop_lon',\n",
       "  'zone_id',\n",
       "  'location_type',\n",
       "  'parent_station',\n",
       "  'wheelchair_boarding'],\n",
       " 'shapes.txt': ['shape_id',\n",
       "  'shape_pt_lat',\n",
       "  'shape_pt_lon',\n",
       "  'shape_pt_sequence',\n",
       "  'shape_dist_traveled'],\n",
       " 'updown_per_cluster_inout.csv': ['up_cluster_name',\n",
       "  'down_cluster_name',\n",
       "  'passengers_count',\n",
       "  'line_direction',\n",
       "  'timelaps',\n",
       "  'goal',\n",
       "  'line'],\n",
       " 'smmag_line_stops.csv': ['gtfsId',\n",
       "  'id',\n",
       "  'code',\n",
       "  'city',\n",
       "  'name',\n",
       "  'lat',\n",
       "  'lon',\n",
       "  'clusterGtfsId',\n",
       "  'cluster',\n",
       "  'line_id',\n",
       "  'way_order'],\n",
       " 'cities.csv': ['ref_insee',\n",
       "  'commune',\n",
       "  'wikipedia',\n",
       "  'surf_ha',\n",
       "  'epci',\n",
       "  'bassin_air',\n",
       "  'rectangle'],\n",
       " 'calendar_dates.txt': ['service_id', 'date', 'exception_type'],\n",
       " 'smmag_line_clusters.csv': ['id',\n",
       "  'code',\n",
       "  'city',\n",
       "  'name',\n",
       "  'visible',\n",
       "  'lat',\n",
       "  'lon',\n",
       "  'line_id',\n",
       "  'way_order'],\n",
       " 'smmag_stop_occupancy.csv': ['timeSlot',\n",
       "  'occupancy',\n",
       "  'routeDirection',\n",
       "  'stop_id'],\n",
       " 'trips.txt': ['route_id',\n",
       "  'trip_id',\n",
       "  'trip_headsign',\n",
       "  'service_id',\n",
       "  'direction_id',\n",
       "  'shape_id',\n",
       "  'wheelchair_accessible',\n",
       "  'bikes_allowed'],\n",
       " 'updown_per_cluster_and_mode.csv': ['cluster_name',\n",
       "  'target_mode',\n",
       "  'passengers_count',\n",
       "  'up_down',\n",
       "  'line_direction',\n",
       "  'timelaps',\n",
       "  'goal',\n",
       "  'line']}"
      ]
     },
     "execution_count": 19,
     "metadata": {},
     "output_type": "execute_result"
    }
   ],
   "source": [
    "# quelles infos dans quels fichiers\n",
    "files_column = {}\n",
    "for file in pathlib.Path(data_path).glob('**/*'):\n",
    "    df = pd.read_csv(file)\n",
    "    files_column[file.name]=list(df.columns)\n",
    "files_column"
   ]
  },
  {
   "cell_type": "code",
   "execution_count": 20,
   "metadata": {},
   "outputs": [
    {
     "name": "stdout",
     "output_type": "stream",
     "text": [
      "['arrival_time', 'bassin_air', 'bikes_allowed', 'city', 'cluster', 'clusterGtfsId', 'cluster_name', 'code', 'color', 'commune', 'date', 'departure_time', 'direction_id', 'down_cluster_name', 'epci', 'exception_type', 'goal', 'gtfsId', 'id', 'lat', 'line', 'line_direction', 'line_id', 'location_type', 'lon', 'longName', 'mode', 'name', 'occupancy', 'parent_station', 'passengers_count', 'pickup_type', 'rectangle', 'ref_insee', 'routeDirection', 'route_id', 'service_id', 'shape_dist_traveled', 'shape_id', 'shape_pt_lat', 'shape_pt_lon', 'shape_pt_sequence', 'shortName', 'stop_code', 'stop_id', 'stop_lat', 'stop_lon', 'stop_name', 'stop_sequence', 'surf_ha', 'target_line', 'target_mode', 'textColor', 'timeSlot', 'timelaps', 'trip_headsign', 'trip_id', 'type', 'up_cluster_name', 'up_down', 'visible', 'way_order', 'wheelchair_accessible', 'wheelchair_boarding', 'wikipedia', 'zone_id']\n"
     ]
    }
   ],
   "source": [
    "# liste des infos disponibles\n",
    "a=[]\n",
    "for value in files_column.values():\n",
    "    for column in value:\n",
    "        a.append(column)\n",
    "print(sorted(set(a)))"
   ]
  },
  {
   "cell_type": "code",
   "execution_count": 23,
   "metadata": {},
   "outputs": [
    {
     "name": "stdout",
     "output_type": "stream",
     "text": [
      "['Ligne 11', 'Ligne 12', 'Ligne 13', 'Ligne 14', 'Ligne 15', 'Ligne 16', 'Ligne 17', 'Ligne 19', 'Ligne 20', 'Ligne 21', 'Ligne 22', 'Ligne 40', 'Ligne 41', 'Ligne 4110', 'Ligne 42', 'Ligne 43', 'Ligne 44', 'Ligne 4500', 'Ligne 47', 'Ligne 49', 'Ligne 50', 'Ligne 51', 'Ligne 5100', 'Ligne 52', 'Ligne 54', 'Ligne 55', 'Ligne 56', 'Ligne 60', 'Ligne 6020', 'Ligne 6070', 'Ligne 61', 'Ligne 62', 'Ligne 64', 'Ligne 66', 'Ligne 67', 'Ligne 7000', 'Ligne C1', 'Ligne C2', 'Ligne C3', 'Ligne C4', 'Ligne C5', 'Ligne C6', 'Ligne EXPRESS 1', 'Ligne EXPRESS 2', 'Ligne EXPRESS 3', 'Ligne G2', 'Ligne W', 'Ligne non précisée', 'Tram A', 'Tram B', 'Tram C', 'Tram D', 'Tram E']\n"
     ]
    }
   ],
   "source": [
    "# quelles valeurs contiennent quelle info\n",
    "search_list=[]\n",
    "search = \"target_line\"\n",
    "for file in pathlib.Path(data_path).glob('**/*'):\n",
    "    df = pd.read_csv(file)\n",
    "    for column in (df.columns):\n",
    "        if column == search:\n",
    "            search_list+=list(df[column].unique())\n",
    "print(sorted(set(search_list)))"
   ]
  },
  {
   "cell_type": "code",
   "execution_count": 22,
   "metadata": {},
   "outputs": [
    {
     "name": "stdout",
     "output_type": "stream",
     "text": [
      "cities.csv\n"
     ]
    }
   ],
   "source": [
    "# quels fichiers contiennent quelle info\n",
    "search = 'ref_insee'\n",
    "for key, value in files_column.items():\n",
    "    for column in value:\n",
    "        if column == search:\n",
    "            print(key)"
   ]
  },
  {
   "cell_type": "code",
   "execution_count": null,
   "metadata": {},
   "outputs": [],
   "source": []
  }
 ],
 "metadata": {
  "kernelspec": {
   "display_name": "Python 3.8.6 64-bit ('webSummaryService')",
   "language": "python",
   "name": "python3"
  },
  "language_info": {
   "codemirror_mode": {
    "name": "ipython",
    "version": 3
   },
   "file_extension": ".py",
   "mimetype": "text/x-python",
   "name": "python",
   "nbconvert_exporter": "python",
   "pygments_lexer": "ipython3",
   "version": "3.8.6"
  },
  "orig_nbformat": 4,
  "vscode": {
   "interpreter": {
    "hash": "eecbdc9c77f8219b3d7b96cbafed81bb413be840db101783da4cb2612317174c"
   }
  }
 },
 "nbformat": 4,
 "nbformat_minor": 2
}
